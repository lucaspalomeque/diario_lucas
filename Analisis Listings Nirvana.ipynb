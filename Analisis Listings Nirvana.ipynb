{
 "cells": [
  {
   "cell_type": "markdown",
   "metadata": {},
   "source": [
    "## Objetivo \n",
    "\n",
    "Crear un script que me permita, cargar los archivos de las monedas que se listan y me genere graficos de:\n",
    "1. evolucion del precio (en 3 o mas timeframes diferentes respecto de la hora del listing)\n",
    "2. evolucion relativa del precio\n",
    "3. evolucion logaritmica del precio. \n",
    "4. evolucion del volumen acumulado. \n",
    "5. evolucion del volumen \n",
    "6. evolucion del precio. \n"
   ]
  },
  {
   "cell_type": "code",
   "execution_count": null,
   "metadata": {
    "collapsed": true
   },
   "outputs": [],
   "source": []
  }
 ],
 "metadata": {
  "kernelspec": {
   "display_name": "Python 3",
   "language": "python",
   "name": "python3"
  },
  "language_info": {
   "codemirror_mode": {
    "name": "ipython",
    "version": 3
   },
   "file_extension": ".py",
   "mimetype": "text/x-python",
   "name": "python",
   "nbconvert_exporter": "python",
   "pygments_lexer": "ipython3",
   "version": "3.6.1"
  }
 },
 "nbformat": 4,
 "nbformat_minor": 2
}
